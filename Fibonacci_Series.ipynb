{
 "cells": [
  {
   "cell_type": "code",
   "execution_count": 11,
   "id": "f9d514f3",
   "metadata": {},
   "outputs": [
    {
     "name": "stdout",
     "output_type": "stream",
     "text": [
      "9\n",
      "0 Fibonacci term is:  0\n",
      "1 Fibonacci term is:  1\n",
      "2 Fibonacci term is:  1\n",
      "3 Fibonacci term is:  2\n",
      "4 Fibonacci term is:  3\n",
      "5 Fibonacci term is:  5\n",
      "6 Fibonacci term is:  8\n",
      "7 Fibonacci term is:  13\n",
      "8 Fibonacci term is:  21\n",
      "9 Fibonacci term is:  34\n"
     ]
    }
   ],
   "source": [
    "n = int(input())\n",
    "for i in range(0,n+1):\n",
    "    if i<2:\n",
    "        if i==0:\n",
    "            print(\"0 Fibonacci term is: \",0)\n",
    "            a = i\n",
    "        elif i==1:\n",
    "            print(\"1 Fibonacci term is: \",1)\n",
    "            b = i\n",
    "    else:\n",
    "        print(str(i) + \" Fibonacci term is: \",a+b)\n",
    "        c = a\n",
    "        a = b\n",
    "        b = c+b"
   ]
  },
  {
   "cell_type": "code",
   "execution_count": 6,
   "id": "b04fb6eb",
   "metadata": {},
   "outputs": [
    {
     "name": "stdout",
     "output_type": "stream",
     "text": [
      "9\n",
      "0 Fibonacci term is:  0\n",
      "1 Fibonacci term is:  1\n",
      "2 Fibonacci term is:  1\n",
      "3 Fibonacci term is:  2\n",
      "4 Fibonacci term is:  3\n",
      "5 Fibonacci term is:  5\n",
      "6 Fibonacci term is:  8\n",
      "7 Fibonacci term is:  13\n",
      "8 Fibonacci term is:  21\n",
      "9 Fibonacci term is:  34\n"
     ]
    }
   ],
   "source": [
    "def fibonacci(N):\n",
    "    if N == 0:\n",
    "        return 0\n",
    "\n",
    "    elif N == 1:\n",
    "        return 1\n",
    "\n",
    "    # The above two if statements can be combined as:\n",
    "    # if N <= 1:\n",
    "    #   return N\n",
    "    return fibonacci(N - 1) + fibonacci(N - 2)\n",
    "\n",
    "\n",
    "if __name__ == '__main__':\n",
    "    N = int(input())\n",
    "    for i in range(N + 1):\n",
    "        print(f\"{i} Fibonacci term is: \", fibonacci(i))"
   ]
  },
  {
   "cell_type": "code",
   "execution_count": null,
   "id": "16c74385",
   "metadata": {},
   "outputs": [],
   "source": []
  },
  {
   "cell_type": "code",
   "execution_count": null,
   "id": "6343871e",
   "metadata": {},
   "outputs": [],
   "source": []
  }
 ],
 "metadata": {
  "kernelspec": {
   "display_name": "Python 3 (ipykernel)",
   "language": "python",
   "name": "python3"
  },
  "language_info": {
   "codemirror_mode": {
    "name": "ipython",
    "version": 3
   },
   "file_extension": ".py",
   "mimetype": "text/x-python",
   "name": "python",
   "nbconvert_exporter": "python",
   "pygments_lexer": "ipython3",
   "version": "3.9.13"
  }
 },
 "nbformat": 4,
 "nbformat_minor": 5
}

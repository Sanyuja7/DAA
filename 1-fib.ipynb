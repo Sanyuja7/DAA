{
 "cells": [
  {
   "cell_type": "code",
   "execution_count": null,
   "id": "36a67d41",
   "metadata": {},
   "outputs": [],
   "source": [
    "import time\n",
    "\n",
    "n_terms = int(input(\"Enter the no. of terms: \"))\n",
    "n1,n2 = 0,1\n",
    "count = 0\n",
    "\n",
    "t1 = time.time()\n",
    "\n",
    "if n_terms <=0:\n",
    "    print(\"Please enter a positive integer :\")\n",
    "    print(\"\\n\")\n",
    "    \n",
    "elif n_terms == 1:\n",
    "    print(\"Fibonacci Sequence upto \",n_terms, \":\")\n",
    "    print(n1)\n",
    "    print(\"\\n\")\n",
    "    \n",
    "else:\n",
    "    print(\"Fibonacci Sequence upto \",n_terms, \":\")\n",
    "    while count<n_terms:\n",
    "        print(n1)\n",
    "        n3 = n1+n2\n",
    "        n1,n2=n2,n3\n",
    "        count +=1\n",
    "        \n",
    "t2 = time.time()\n",
    "\n",
    "delta = t2-t1\n",
    "print(\"Time taken for execution is :\",delta,\" seconds\" )"
   ]
  },
  {
   "cell_type": "code",
   "execution_count": null,
   "id": "7aa22475",
   "metadata": {},
   "outputs": [],
   "source": [
    "import time\n",
    "\n",
    "def fib(n):\n",
    "    if n<=1:\n",
    "        return n\n",
    "    else:\n",
    "        return fib(n-1) + fib(n-2)\n",
    "\n",
    "n_terms = int(input(\"Enter the no. of terms: \"))\n",
    "\n",
    "t1 = time.time()\n",
    "\n",
    "if n_terms <=0:\n",
    "    print(\"Please enter a positive integer :\")\n",
    "    print(\"\\n\")\n",
    "else:\n",
    "    print(\"Fibonacci Sequence :\")\n",
    "    for i in range (n_terms):\n",
    "        print(fib(i))\n",
    "        \n",
    "t2 = time.time()\n",
    "delta = t2 - t1 \n",
    "print(\"Time taken for execution is :\",delta,\" seconds\") \n",
    "\n",
    "\n",
    "Iterative\n",
    "Time-O(n)\n",
    "Space-O(1)\n",
    "Recursive\n",
    "Time-O(2^n)\n",
    "Space-O(1)"
   ]
  }
 ],
 "metadata": {
  "kernelspec": {
   "display_name": "Python 3 (ipykernel)",
   "language": "python",
   "name": "python3"
  },
  "language_info": {
   "codemirror_mode": {
    "name": "ipython",
    "version": 3
   },
   "file_extension": ".py",
   "mimetype": "text/x-python",
   "name": "python",
   "nbconvert_exporter": "python",
   "pygments_lexer": "ipython3",
   "version": "3.9.13"
  }
 },
 "nbformat": 4,
 "nbformat_minor": 5
}

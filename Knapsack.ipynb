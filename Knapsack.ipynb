{
 "cells": [
  {
   "cell_type": "code",
   "execution_count": null,
   "id": "adb1d1f6",
   "metadata": {},
   "outputs": [],
   "source": [
    "def fractional_knapsack(value, weight, capacity):\n",
    "    index = list(range(len(value)))\n",
    "    ratio = [v/w for v, w in zip(value, weight)]\n",
    "    index.sort(key=lambda i: ratio[i], reverse=True)\n",
    " \n",
    "    max_value = 0\n",
    "    fractions = [0]*len(value)\n",
    "    for i in index:\n",
    "        if weight[i] <= capacity:\n",
    "            fractions[i] = 1\n",
    "            max_value += value[i]\n",
    "            capacity -= weight[i]\n",
    "        else:\n",
    "            fractions[i] = capacity/weight[i]\n",
    "            max_value += value[i]*capacity/weight[i]\n",
    "            break\n",
    " \n",
    "    return max_value, fractions\n",
    " \n",
    " \n",
    "n = int(input('Enter number of items: '))\n",
    "value = input('Enter the values of the {} item(s) in order: '\n",
    "              .format(n)).split()\n",
    "value = [int(v) for v in value]\n",
    "weight = input('Enter the positive weights of the {} item(s) in order: '\n",
    "               .format(n)).split()\n",
    "weight = [int(w) for w in weight]\n",
    "capacity = int(input('Enter maximum weight: '))\n",
    " \n",
    "max_value, fractions = fractional_knapsack(value, weight, capacity)\n",
    "print('The maximum value of items that can be carried:', max_value)\n",
    "print('The fractions in which the items should be taken:', fractions)"
   ]
  },
  {
   "cell_type": "code",
   "execution_count": null,
   "id": "a4b9f0b2",
   "metadata": {},
   "outputs": [],
   "source": []
  },
  {
   "cell_type": "code",
   "execution_count": null,
   "id": "d894d4eb",
   "metadata": {},
   "outputs": [],
   "source": []
  }
 ],
 "metadata": {
  "kernelspec": {
   "display_name": "Python 3 (ipykernel)",
   "language": "python",
   "name": "python3"
  }
 },
 "nbformat": 4,
 "nbformat_minor": 5
}
